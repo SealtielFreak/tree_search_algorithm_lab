{
 "cells": [
  {
   "metadata": {},
   "cell_type": "markdown",
   "source": [
    "# Random search"
   ],
   "id": "e68d7750de41c9ea"
  },
  {
   "metadata": {
    "ExecuteTime": {
     "end_time": "2024-05-27T09:28:25.174906Z",
     "start_time": "2024-05-27T09:28:24.667655Z"
    }
   },
   "cell_type": "code",
   "source": [
    "import sympy as sp\n",
    "import numpy as np\n",
    "\n",
    "LIMITS_RANGE = -3, 3\n",
    "\n",
    "COMPONENTS = 3\n",
    "DATA_SIZE = 10"
   ],
   "id": "34d7693ae502b9d4",
   "outputs": [],
   "execution_count": 1
  },
  {
   "metadata": {
    "ExecuteTime": {
     "end_time": "2024-05-27T09:28:25.180856Z",
     "start_time": "2024-05-27T09:28:25.176620Z"
    }
   },
   "cell_type": "code",
   "source": [
    "syms = sp.symbols(f'x1:{COMPONENTS+1}')"
   ],
   "id": "d433c9baa07a643d",
   "outputs": [],
   "execution_count": 2
  },
  {
   "metadata": {
    "ExecuteTime": {
     "end_time": "2024-05-27T09:28:25.246240Z",
     "start_time": "2024-05-27T09:28:25.182567Z"
    }
   },
   "cell_type": "code",
   "source": [
    "x1 = syms[0]\n",
    "x2 = syms[1]\n",
    "x3 = syms[2]\n",
    "\n",
    "eq = sum(syms)\n",
    "eq = eq.subs(x1, 1/x1**2).subs(x2, x2**2).subs(x3, x3**3)\n",
    "\n",
    "eq"
   ],
   "id": "dcd0b4929125ef15",
   "outputs": [
    {
     "data": {
      "text/plain": [
       "x2**2 + x3**3 + x1**(-2)"
      ],
      "text/latex": "$\\displaystyle x_{2}^{2} + x_{3}^{3} + \\frac{1}{x_{1}^{2}}$"
     },
     "execution_count": 3,
     "metadata": {},
     "output_type": "execute_result"
    }
   ],
   "execution_count": 3
  },
  {
   "metadata": {
    "ExecuteTime": {
     "end_time": "2024-05-27T09:28:25.263983Z",
     "start_time": "2024-05-27T09:28:25.247641Z"
    }
   },
   "cell_type": "code",
   "source": [
    "f = sp.lambdify(syms, eq, modules='numpy')"
   ],
   "id": "5c6ba03f3a7ddcd4",
   "outputs": [],
   "execution_count": 4
  },
  {
   "metadata": {
    "ExecuteTime": {
     "end_time": "2024-05-27T09:28:25.280148Z",
     "start_time": "2024-05-27T09:28:25.267351Z"
    }
   },
   "cell_type": "code",
   "source": [
    "import dataclasses\n",
    "\n",
    "@dataclasses.dataclass\n",
    "class VectorStructure:\n",
    "    data: list | np.ndarray\n",
    "    value: int | float\n",
    "    \n",
    "    def __gt__(self, other):        \n",
    "        return self.value > other.value\n",
    "    \n",
    "    def __str__(self):\n",
    "        return f\"{self.data}, {self.value}\"\n",
    "    \n",
    "    def __iter__(self):\n",
    "        return iter([*self.data, self.value])\n"
   ],
   "id": "544f8290ee2ae0f1",
   "outputs": [],
   "execution_count": 5
  },
  {
   "metadata": {
    "ExecuteTime": {
     "end_time": "2024-05-27T09:28:25.580232Z",
     "start_time": "2024-05-27T09:28:25.284498Z"
    }
   },
   "cell_type": "code",
   "source": [
    "import pandas as pd\n",
    "\n",
    "def random_search_algorithm(n_it=5):\n",
    "    all_data = []\n",
    "    \n",
    "    for it in range(n_it):\n",
    "        data = [np.random.uniform(-30, 30) for _ in range(COMPONENTS)]\n",
    "        value = f(*data)\n",
    "                \n",
    "        all_data.append(\n",
    "            VectorStructure(data, value)\n",
    "        )\n",
    "    \n",
    "    return [list(vec) for vec in all_data], min(all_data)\n",
    "\n",
    "\n",
    "all_data, min_found = random_search_algorithm()"
   ],
   "id": "633f660fc90a3382",
   "outputs": [],
   "execution_count": 6
  },
  {
   "metadata": {
    "ExecuteTime": {
     "end_time": "2024-05-27T09:28:25.593886Z",
     "start_time": "2024-05-27T09:28:25.581566Z"
    }
   },
   "cell_type": "code",
   "source": [
    "pd.DataFrame(all_data)"
   ],
   "id": "4e31cbc544477134",
   "outputs": [
    {
     "data": {
      "text/plain": [
       "           0          1          2             3\n",
       "0  -6.574231  29.436611  12.830097   2978.517266\n",
       "1 -13.911898  -4.577050   6.013502    238.416091\n",
       "2  25.725768 -14.683322 -25.042801 -15489.788107\n",
       "3 -10.515148  22.038526 -22.729484 -11257.014701\n",
       "4  17.995416 -20.982751  25.092015  16238.442064"
      ],
      "text/html": [
       "<div>\n",
       "<style scoped>\n",
       "    .dataframe tbody tr th:only-of-type {\n",
       "        vertical-align: middle;\n",
       "    }\n",
       "\n",
       "    .dataframe tbody tr th {\n",
       "        vertical-align: top;\n",
       "    }\n",
       "\n",
       "    .dataframe thead th {\n",
       "        text-align: right;\n",
       "    }\n",
       "</style>\n",
       "<table border=\"1\" class=\"dataframe\">\n",
       "  <thead>\n",
       "    <tr style=\"text-align: right;\">\n",
       "      <th></th>\n",
       "      <th>0</th>\n",
       "      <th>1</th>\n",
       "      <th>2</th>\n",
       "      <th>3</th>\n",
       "    </tr>\n",
       "  </thead>\n",
       "  <tbody>\n",
       "    <tr>\n",
       "      <th>0</th>\n",
       "      <td>-6.574231</td>\n",
       "      <td>29.436611</td>\n",
       "      <td>12.830097</td>\n",
       "      <td>2978.517266</td>\n",
       "    </tr>\n",
       "    <tr>\n",
       "      <th>1</th>\n",
       "      <td>-13.911898</td>\n",
       "      <td>-4.577050</td>\n",
       "      <td>6.013502</td>\n",
       "      <td>238.416091</td>\n",
       "    </tr>\n",
       "    <tr>\n",
       "      <th>2</th>\n",
       "      <td>25.725768</td>\n",
       "      <td>-14.683322</td>\n",
       "      <td>-25.042801</td>\n",
       "      <td>-15489.788107</td>\n",
       "    </tr>\n",
       "    <tr>\n",
       "      <th>3</th>\n",
       "      <td>-10.515148</td>\n",
       "      <td>22.038526</td>\n",
       "      <td>-22.729484</td>\n",
       "      <td>-11257.014701</td>\n",
       "    </tr>\n",
       "    <tr>\n",
       "      <th>4</th>\n",
       "      <td>17.995416</td>\n",
       "      <td>-20.982751</td>\n",
       "      <td>25.092015</td>\n",
       "      <td>16238.442064</td>\n",
       "    </tr>\n",
       "  </tbody>\n",
       "</table>\n",
       "</div>"
      ]
     },
     "execution_count": 7,
     "metadata": {},
     "output_type": "execute_result"
    }
   ],
   "execution_count": 7
  },
  {
   "metadata": {
    "ExecuteTime": {
     "end_time": "2024-05-27T09:28:25.599630Z",
     "start_time": "2024-05-27T09:28:25.595239Z"
    }
   },
   "cell_type": "code",
   "source": [
    "min_found"
   ],
   "id": "4312d0813aa9362a",
   "outputs": [
    {
     "data": {
      "text/plain": [
       "VectorStructure(data=[25.725767776930645, -14.683321616135158, -25.042801108346957], value=-15489.78810699622)"
      ]
     },
     "execution_count": 8,
     "metadata": {},
     "output_type": "execute_result"
    }
   ],
   "execution_count": 8
  },
  {
   "metadata": {
    "ExecuteTime": {
     "end_time": "2024-05-27T09:28:25.603789Z",
     "start_time": "2024-05-27T09:28:25.601212Z"
    }
   },
   "cell_type": "code",
   "source": [],
   "id": "90847e57a4d327c7",
   "outputs": [],
   "execution_count": 8
  }
 ],
 "metadata": {
  "kernelspec": {
   "display_name": "Python 3",
   "language": "python",
   "name": "python3"
  },
  "language_info": {
   "codemirror_mode": {
    "name": "ipython",
    "version": 2
   },
   "file_extension": ".py",
   "mimetype": "text/x-python",
   "name": "python",
   "nbconvert_exporter": "python",
   "pygments_lexer": "ipython2",
   "version": "2.7.6"
  }
 },
 "nbformat": 4,
 "nbformat_minor": 5
}
