{
 "cells": [
  {
   "metadata": {},
   "cell_type": "markdown",
   "source": [
    "# Random search"
   ],
   "id": "e68d7750de41c9ea"
  },
  {
   "metadata": {
    "ExecuteTime": {
     "end_time": "2024-05-27T17:29:44.300509700Z",
     "start_time": "2024-05-27T17:29:44.241725700Z"
    }
   },
   "cell_type": "code",
   "source": [
    "import sympy as sp\n",
    "import numpy as np\n",
    "\n",
    "LIMITS_RANGE = -3, 3\n",
    "\n",
    "COMPONENTS = 3\n",
    "DATA_SIZE = 10"
   ],
   "id": "34d7693ae502b9d4",
   "outputs": [],
   "execution_count": 46
  },
  {
   "metadata": {
    "ExecuteTime": {
     "end_time": "2024-05-27T17:29:44.301611800Z",
     "start_time": "2024-05-27T17:29:44.248755800Z"
    }
   },
   "cell_type": "code",
   "source": [
    "syms = sp.symbols(f'x1:{COMPONENTS+1}')"
   ],
   "id": "d433c9baa07a643d",
   "outputs": [],
   "execution_count": 47
  },
  {
   "metadata": {
    "ExecuteTime": {
     "end_time": "2024-05-27T17:29:44.302511Z",
     "start_time": "2024-05-27T17:29:44.257202200Z"
    }
   },
   "cell_type": "code",
   "source": [
    "import operator\n",
    "import functools\n",
    "\n",
    "x1 = syms[0]\n",
    "x2 = syms[1]\n",
    "x3 = syms[2]\n",
    "\n",
    "eq = sum(syms)\n",
    "# eq = eq.subs(x1, 1/x1**2).subs(x2, x2**2).subs(x3, x3**3)\n",
    "# eq = functools.reduce(operator.mul, syms, 1)\n",
    "\n",
    "eq"
   ],
   "id": "dcd0b4929125ef15",
   "outputs": [
    {
     "data": {
      "text/plain": "x1 + x2 + x3",
      "text/latex": "$\\displaystyle x_{1} + x_{2} + x_{3}$"
     },
     "execution_count": 48,
     "metadata": {},
     "output_type": "execute_result"
    }
   ],
   "execution_count": 48
  },
  {
   "metadata": {
    "ExecuteTime": {
     "end_time": "2024-05-27T17:29:44.302511Z",
     "start_time": "2024-05-27T17:29:44.270117100Z"
    }
   },
   "cell_type": "code",
   "source": [
    "f = sp.lambdify(syms, eq, modules='numpy')"
   ],
   "id": "5c6ba03f3a7ddcd4",
   "outputs": [],
   "execution_count": 49
  },
  {
   "metadata": {
    "ExecuteTime": {
     "end_time": "2024-05-27T18:22:20.072312600Z",
     "start_time": "2024-05-27T18:22:20.057720300Z"
    }
   },
   "cell_type": "code",
   "source": [
    "import typing\n",
    "import math\n",
    "import dataclasses\n",
    "\n",
    "T = typing.TypeVar(\"T\", int, float)\n",
    "Vector = typing.Tuple[T, T]\n",
    "VectorComponent = typing.List[T] | typing.Tuple[T, ...]\n",
    "VectorArray = typing.List[typing.Tuple[T, T]]\n",
    "\n",
    "def check_axis_intersect(that: Vector, z: T):\n",
    "    x, y = that\n",
    "    return y > z > x\n",
    "\n",
    "\n",
    "def is_collision(that: VectorArray, other: VectorComponent) -> bool:\n",
    "    if len(that) != len(other):\n",
    "        raise ValueError(\"Invalid arguments, different length of values\")\n",
    "        \n",
    "    return all([check_axis_intersect(t, z) for t, z in zip(that, other)])\n",
    "\n",
    "\n",
    "@dataclasses.dataclass\n",
    "class VectorStructure:\n",
    "    data: VectorComponent\n",
    "    value: T\n",
    "    \n",
    "    def __gt__(self, other):        \n",
    "        return self.value > other.value\n",
    "    \n",
    "    def __str__(self):\n",
    "        return f\"{self.data}, {self.value}\"\n",
    "    \n",
    "    def __iter__(self):\n",
    "        return iter([*self.data, self.value])\n",
    "\n",
    "\n",
    "def create_node_container_child(_array: VectorArray) -> VectorArray:\n",
    "    all_data = []\n",
    "    \n",
    "    for arr in _array:\n",
    "        x, y = arr\n",
    "        d = math.floor(y - x) / 2\n",
    "        \n",
    "        all_data.append((x, x + d))\n",
    "        all_data.append((x + d, y))\n",
    "    \n",
    "    return all_data\n",
    "\n",
    "\n",
    "class NodeContainer:\n",
    "    def __init__(self, data: VectorArray):\n",
    "        self.__data = data\n",
    "        self.__children: typing.List[NodeContainer] = [\n",
    "            \n",
    "        ]\n",
    "\n",
    "\n",
    "class NodeData:\n",
    "    def __init__(self):\n",
    "        pass\n",
    "\n",
    "\n",
    "class TreeNode:\n",
    "    def __init__(self):\n",
    "        pass\n",
    "    \n",
    "create_node_container_child([(-1, 1), (1, 1)])"
   ],
   "id": "d9d130215c2d9b8c",
   "outputs": [
    {
     "data": {
      "text/plain": "[(-1, 0.0), (0.0, 1), (1, 1.0), (1.0, 1)]"
     },
     "execution_count": 116,
     "metadata": {},
     "output_type": "execute_result"
    }
   ],
   "execution_count": 116
  },
  {
   "metadata": {
    "ExecuteTime": {
     "end_time": "2024-05-27T17:54:02.565413200Z",
     "start_time": "2024-05-27T17:54:02.540980800Z"
    }
   },
   "cell_type": "code",
   "source": [
    "import pandas as pd\n",
    "\n",
    "def tree_search_algorithm(n_it=500):\n",
    "    all_data = []\n",
    "    \n",
    "    for it in range(n_it):\n",
    "        data = [np.random.uniform(-3, 3) for _ in range(COMPONENTS)]\n",
    "        value = f(*data)\n",
    "                \n",
    "        all_data.append(\n",
    "            VectorStructure(data, value)\n",
    "        )\n",
    "    \n",
    "    return [list(vec) for vec in all_data], min(all_data)\n",
    "\n",
    "all_data, min_found = tree_search_algorithm()"
   ],
   "id": "633f660fc90a3382",
   "outputs": [],
   "execution_count": 57
  },
  {
   "metadata": {
    "ExecuteTime": {
     "end_time": "2024-05-27T17:29:44.410993700Z",
     "start_time": "2024-05-27T17:29:44.368422500Z"
    }
   },
   "cell_type": "code",
   "source": [
    "pd.DataFrame(all_data)"
   ],
   "id": "4e31cbc544477134",
   "outputs": [
    {
     "data": {
      "text/plain": "            0         1         2         3\n0    0.993532  1.380039 -1.895430  0.478141\n1    2.739897  1.802119 -0.447818  4.094198\n2    1.705325  0.817082 -2.077405  0.445002\n3   -0.924017  1.085211  0.163849  0.325043\n4   -1.656772  1.896200  2.722122  2.961550\n..        ...       ...       ...       ...\n495 -1.952002 -1.728350 -0.883043 -4.563395\n496  2.765692  0.342431 -2.320043  0.788080\n497  0.498080  0.375626 -1.588905 -0.715200\n498  2.689740 -0.519988  0.660932  2.830684\n499  2.021479 -1.622253 -2.959619 -2.560393\n\n[500 rows x 4 columns]",
      "text/html": "<div>\n<style scoped>\n    .dataframe tbody tr th:only-of-type {\n        vertical-align: middle;\n    }\n\n    .dataframe tbody tr th {\n        vertical-align: top;\n    }\n\n    .dataframe thead th {\n        text-align: right;\n    }\n</style>\n<table border=\"1\" class=\"dataframe\">\n  <thead>\n    <tr style=\"text-align: right;\">\n      <th></th>\n      <th>0</th>\n      <th>1</th>\n      <th>2</th>\n      <th>3</th>\n    </tr>\n  </thead>\n  <tbody>\n    <tr>\n      <th>0</th>\n      <td>0.993532</td>\n      <td>1.380039</td>\n      <td>-1.895430</td>\n      <td>0.478141</td>\n    </tr>\n    <tr>\n      <th>1</th>\n      <td>2.739897</td>\n      <td>1.802119</td>\n      <td>-0.447818</td>\n      <td>4.094198</td>\n    </tr>\n    <tr>\n      <th>2</th>\n      <td>1.705325</td>\n      <td>0.817082</td>\n      <td>-2.077405</td>\n      <td>0.445002</td>\n    </tr>\n    <tr>\n      <th>3</th>\n      <td>-0.924017</td>\n      <td>1.085211</td>\n      <td>0.163849</td>\n      <td>0.325043</td>\n    </tr>\n    <tr>\n      <th>4</th>\n      <td>-1.656772</td>\n      <td>1.896200</td>\n      <td>2.722122</td>\n      <td>2.961550</td>\n    </tr>\n    <tr>\n      <th>...</th>\n      <td>...</td>\n      <td>...</td>\n      <td>...</td>\n      <td>...</td>\n    </tr>\n    <tr>\n      <th>495</th>\n      <td>-1.952002</td>\n      <td>-1.728350</td>\n      <td>-0.883043</td>\n      <td>-4.563395</td>\n    </tr>\n    <tr>\n      <th>496</th>\n      <td>2.765692</td>\n      <td>0.342431</td>\n      <td>-2.320043</td>\n      <td>0.788080</td>\n    </tr>\n    <tr>\n      <th>497</th>\n      <td>0.498080</td>\n      <td>0.375626</td>\n      <td>-1.588905</td>\n      <td>-0.715200</td>\n    </tr>\n    <tr>\n      <th>498</th>\n      <td>2.689740</td>\n      <td>-0.519988</td>\n      <td>0.660932</td>\n      <td>2.830684</td>\n    </tr>\n    <tr>\n      <th>499</th>\n      <td>2.021479</td>\n      <td>-1.622253</td>\n      <td>-2.959619</td>\n      <td>-2.560393</td>\n    </tr>\n  </tbody>\n</table>\n<p>500 rows × 4 columns</p>\n</div>"
     },
     "execution_count": 53,
     "metadata": {},
     "output_type": "execute_result"
    }
   ],
   "execution_count": 53
  },
  {
   "metadata": {
    "ExecuteTime": {
     "end_time": "2024-05-27T17:29:44.410993700Z",
     "start_time": "2024-05-27T17:29:44.385842700Z"
    }
   },
   "cell_type": "code",
   "source": [
    "min_found"
   ],
   "id": "4312d0813aa9362a",
   "outputs": [
    {
     "data": {
      "text/plain": "VectorStructure(data=[-2.9747211752535563, -2.270857012158328, -2.8904657979068005], value=-8.136043985318684)"
     },
     "execution_count": 54,
     "metadata": {},
     "output_type": "execute_result"
    }
   ],
   "execution_count": 54
  },
  {
   "metadata": {
    "ExecuteTime": {
     "end_time": "2024-05-27T17:29:44.411995300Z",
     "start_time": "2024-05-27T17:29:44.395435800Z"
    }
   },
   "cell_type": "code",
   "source": [],
   "id": "90847e57a4d327c7",
   "outputs": [],
   "execution_count": 54
  }
 ],
 "metadata": {
  "kernelspec": {
   "display_name": "Python 3",
   "language": "python",
   "name": "python3"
  },
  "language_info": {
   "codemirror_mode": {
    "name": "ipython",
    "version": 2
   },
   "file_extension": ".py",
   "mimetype": "text/x-python",
   "name": "python",
   "nbconvert_exporter": "python",
   "pygments_lexer": "ipython2",
   "version": "2.7.6"
  }
 },
 "nbformat": 4,
 "nbformat_minor": 5
}
